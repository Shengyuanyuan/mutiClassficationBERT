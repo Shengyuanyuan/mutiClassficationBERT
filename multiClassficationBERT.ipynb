{
 "cells": [
  {
   "cell_type": "code",
   "execution_count": 154,
   "metadata": {},
   "outputs": [],
   "source": [
    "import pandas as pd\n",
    "import numpy as np\n",
    "import torch\n",
    "import time"
   ]
  },
  {
   "cell_type": "code",
   "execution_count": 231,
   "metadata": {},
   "outputs": [],
   "source": [
    "# importing the dataset \n",
    "df_train = pd.read_excel('./title-classfication-train.xlsx')\n",
    "df_test = pd.read_excel('./title-classfication-val.xlsx')"
   ]
  },
  {
   "cell_type": "code",
   "execution_count": 232,
   "metadata": {},
   "outputs": [],
   "source": [
    "df_test = df_test.drop(columns=['Date'])\n",
    "df_train = df_train.drop(columns=['Date'])\n"
   ]
  },
  {
   "cell_type": "code",
   "execution_count": 233,
   "metadata": {},
   "outputs": [],
   "source": [
    "df_train[\"Trend\"] = df_train[\"Trend\"].replace(\"A\",\"Positive\")\n",
    "df_train[\"Trend\"] = df_train[\"Trend\"].replace(\"B\",\"Neutral\")\n",
    "df_train[\"Trend\"] = df_train[\"Trend\"].replace(\"C\",\"Negative\")\n",
    "\n",
    "df_test[\"Trend\"] = df_test[\"Trend\"].replace(\"A\",\"Positive\")\n",
    "df_test[\"Trend\"] = df_test[\"Trend\"].replace(\"B\",\"Neutral\")\n",
    "df_test[\"Trend\"] = df_test[\"Trend\"].replace(\"C\",\"Negative\")"
   ]
  },
  {
   "cell_type": "code",
   "execution_count": 234,
   "metadata": {},
   "outputs": [],
   "source": [
    "encoded_dict = {'Positive':0,'Neutral':1, 'Negative':2}\n",
    "df_train['Trend'] = df_train.Trend.map(encoded_dict)\n",
    "df_test['Trend'] = df_test.Trend.map(encoded_dict)"
   ]
  },
  {
   "cell_type": "code",
   "execution_count": 235,
   "metadata": {},
   "outputs": [],
   "source": [
    "from tensorflow.keras.utils import to_categorical\n",
    "import transformers\n",
    "import tensorflow as tf\n",
    "from tensorflow.keras.optimizers import Adam\n",
    "from tensorflow.keras.callbacks import EarlyStopping\n",
    "from tensorflow.keras.initializers import TruncatedNormal\n",
    "from tensorflow.keras.losses import CategoricalCrossentropy\n",
    "from tensorflow.keras.metrics import CategoricalAccuracy\n",
    "from tensorflow.keras.utils import to_categorical\n",
    "from tensorflow.keras.layers import Input, Dense"
   ]
  },
  {
   "cell_type": "code",
   "execution_count": 236,
   "metadata": {},
   "outputs": [],
   "source": [
    "y_train = to_categorical(df_train.Trend)\n",
    "y_test = to_categorical(df_test.Trend)"
   ]
  },
  {
   "cell_type": "code",
   "execution_count": 237,
   "metadata": {},
   "outputs": [
    {
     "name": "stderr",
     "output_type": "stream",
     "text": [
      "Some layers from the model checkpoint at bert-base-uncased were not used when initializing TFBertModel: ['nsp___cls', 'mlm___cls']\n",
      "- This IS expected if you are initializing TFBertModel from the checkpoint of a model trained on another task or with another architecture (e.g. initializing a BertForSequenceClassification model from a BertForPreTraining model).\n",
      "- This IS NOT expected if you are initializing TFBertModel from the checkpoint of a model that you expect to be exactly identical (initializing a BertForSequenceClassification model from a BertForSequenceClassification model).\n",
      "All the layers of TFBertModel were initialized from the model checkpoint at bert-base-uncased.\n",
      "If your task is similar to the task the model of the checkpoint was trained on, you can already use TFBertModel for predictions without further training.\n"
     ]
    }
   ],
   "source": [
    "from transformers import AutoTokenizer,TFBertModel\n",
    "tokenizer = AutoTokenizer.from_pretrained('bert-base-uncased')\n",
    "bert = TFBertModel.from_pretrained('bert-base-uncased')"
   ]
  },
  {
   "cell_type": "code",
   "execution_count": 238,
   "metadata": {},
   "outputs": [],
   "source": [
    "# Tokenize the input (takes some time) \n",
    "# here tokenizer using from bert-base-cased\n",
    "x_train = tokenizer(\n",
    "    text=df_train.Title.tolist(),\n",
    "    add_special_tokens=True,\n",
    "    max_length=27,\n",
    "    truncation=True,\n",
    "    padding=True, \n",
    "    return_tensors='tf',\n",
    "    return_token_type_ids = False,\n",
    "    return_attention_mask = True,\n",
    "    verbose = True)\n",
    "x_test = tokenizer(\n",
    "    text=df_test.Title.tolist(),\n",
    "    add_special_tokens=True,\n",
    "    max_length=27,\n",
    "    truncation=True,\n",
    "    padding=True, \n",
    "    return_tensors='tf',\n",
    "    return_token_type_ids = False,\n",
    "    return_attention_mask = True,\n",
    "    verbose = True)"
   ]
  },
  {
   "cell_type": "code",
   "execution_count": 239,
   "metadata": {},
   "outputs": [],
   "source": [
    "input_ids = x_train['input_ids']\n",
    "attention_mask = x_train['attention_mask']"
   ]
  },
  {
   "cell_type": "code",
   "execution_count": 240,
   "metadata": {},
   "outputs": [],
   "source": [
    "#########可能有問題\n",
    "\n",
    "max_len = 27\n",
    "input_ids = Input(shape=(max_len,), dtype=tf.int32, name=\"input_ids\")\n",
    "input_mask = Input(shape=(max_len,), dtype=tf.int32, name=\"attention_mask\")\n",
    "embeddings = bert(input_ids,attention_mask = input_mask)[0] \n",
    "out = tf.keras.layers.GlobalMaxPool1D()(embeddings)\n",
    "out = Dense(128, activation='relu')(out)\n",
    "out = tf.keras.layers.Dropout(0.1)(out)\n",
    "out = Dense(32,activation = 'relu')(out)\n",
    "y = Dense(3,activation = 'sigmoid')(out)\n",
    "model = tf.keras.Model(inputs=[input_ids, input_mask], outputs=y)\n",
    "model.layers[2].trainable = True"
   ]
  },
  {
   "cell_type": "code",
   "execution_count": 241,
   "metadata": {},
   "outputs": [],
   "source": [
    "optimizer = Adam(\n",
    "    learning_rate=5e-05, # this learning rate is for bert model , taken from huggingface website \n",
    "    epsilon=1e-08,\n",
    "    decay=0.01,\n",
    "    clipnorm=1.0)\n",
    "# Set loss and metrics\n",
    "loss =CategoricalCrossentropy(from_logits = True)\n",
    "metric = CategoricalAccuracy('balanced_accuracy')\n",
    "# Compile the model\n",
    "model.compile(optimizer = optimizer,loss = loss, metrics = metric)"
   ]
  },
  {
   "cell_type": "code",
   "execution_count": 242,
   "metadata": {},
   "outputs": [
    {
     "name": "stdout",
     "output_type": "stream",
     "text": [
      "Epoch 1/30\n",
      "WARNING:tensorflow:Gradients do not exist for variables ['tf_bert_model_11/bert/pooler/dense/kernel:0', 'tf_bert_model_11/bert/pooler/dense/bias:0'] when minimizing the loss. If you're using `model.compile()`, did you forget to provide a `loss`argument?\n",
      "WARNING:tensorflow:Gradients do not exist for variables ['tf_bert_model_11/bert/pooler/dense/kernel:0', 'tf_bert_model_11/bert/pooler/dense/bias:0'] when minimizing the loss. If you're using `model.compile()`, did you forget to provide a `loss`argument?\n",
      "39/39 [==============================] - 161s 4s/step - loss: 1.0998 - balanced_accuracy: 0.4038 - val_loss: 0.9757 - val_balanced_accuracy: 0.5344\n",
      "Epoch 2/30\n",
      "39/39 [==============================] - 136s 4s/step - loss: 0.8229 - balanced_accuracy: 0.6296 - val_loss: 0.7726 - val_balanced_accuracy: 0.6461\n",
      "Epoch 3/30\n",
      "39/39 [==============================] - 136s 4s/step - loss: 0.5280 - balanced_accuracy: 0.7669 - val_loss: 0.6626 - val_balanced_accuracy: 0.7219\n",
      "Epoch 4/30\n",
      "39/39 [==============================] - 136s 4s/step - loss: 0.3091 - balanced_accuracy: 0.8794 - val_loss: 0.7044 - val_balanced_accuracy: 0.7328\n",
      "Epoch 5/30\n",
      "39/39 [==============================] - 137s 4s/step - loss: 0.1796 - balanced_accuracy: 0.9368 - val_loss: 0.7700 - val_balanced_accuracy: 0.7227\n",
      "Epoch 6/30\n",
      "39/39 [==============================] - 136s 4s/step - loss: 0.1309 - balanced_accuracy: 0.9564 - val_loss: 0.8725 - val_balanced_accuracy: 0.7461\n",
      "Epoch 7/30\n",
      "39/39 [==============================] - 138s 4s/step - loss: 0.0721 - balanced_accuracy: 0.9775 - val_loss: 0.9602 - val_balanced_accuracy: 0.7398\n",
      "Epoch 8/30\n",
      "39/39 [==============================] - 138s 4s/step - loss: 0.0555 - balanced_accuracy: 0.9818 - val_loss: 1.0165 - val_balanced_accuracy: 0.7305\n",
      "Epoch 9/30\n",
      "39/39 [==============================] - 137s 4s/step - loss: 0.0535 - balanced_accuracy: 0.9855 - val_loss: 1.1422 - val_balanced_accuracy: 0.7219\n",
      "Epoch 10/30\n",
      "39/39 [==============================] - 137s 4s/step - loss: 0.0336 - balanced_accuracy: 0.9891 - val_loss: 1.1667 - val_balanced_accuracy: 0.7289\n",
      "Epoch 11/30\n",
      "39/39 [==============================] - 137s 4s/step - loss: 0.0275 - balanced_accuracy: 0.9927 - val_loss: 1.2546 - val_balanced_accuracy: 0.7266\n",
      "Epoch 12/30\n",
      "39/39 [==============================] - 137s 4s/step - loss: 0.0158 - balanced_accuracy: 0.9956 - val_loss: 1.3098 - val_balanced_accuracy: 0.7258\n",
      "Epoch 13/30\n",
      "39/39 [==============================] - 137s 4s/step - loss: 0.0149 - balanced_accuracy: 0.9964 - val_loss: 1.2643 - val_balanced_accuracy: 0.7242\n",
      "Epoch 14/30\n",
      "39/39 [==============================] - 137s 4s/step - loss: 0.0105 - balanced_accuracy: 0.9985 - val_loss: 1.3258 - val_balanced_accuracy: 0.7320\n",
      "Epoch 15/30\n",
      "39/39 [==============================] - 137s 4s/step - loss: 0.0160 - balanced_accuracy: 0.9942 - val_loss: 1.3245 - val_balanced_accuracy: 0.7305\n",
      "Epoch 16/30\n",
      "39/39 [==============================] - 137s 4s/step - loss: 0.0067 - balanced_accuracy: 0.9978 - val_loss: 1.4355 - val_balanced_accuracy: 0.7242\n",
      "Epoch 17/30\n",
      "39/39 [==============================] - 136s 4s/step - loss: 0.0088 - balanced_accuracy: 0.9985 - val_loss: 1.4543 - val_balanced_accuracy: 0.7227\n",
      "Epoch 18/30\n",
      "39/39 [==============================] - 137s 4s/step - loss: 0.0124 - balanced_accuracy: 0.9964 - val_loss: 1.5069 - val_balanced_accuracy: 0.7227\n",
      "Epoch 19/30\n",
      "39/39 [==============================] - 137s 4s/step - loss: 0.0036 - balanced_accuracy: 0.9993 - val_loss: 1.4101 - val_balanced_accuracy: 0.7359\n",
      "Epoch 20/30\n",
      "39/39 [==============================] - 137s 4s/step - loss: 0.0025 - balanced_accuracy: 1.0000 - val_loss: 1.4384 - val_balanced_accuracy: 0.7297\n",
      "Epoch 21/30\n",
      "39/39 [==============================] - 137s 4s/step - loss: 0.0030 - balanced_accuracy: 1.0000 - val_loss: 1.4907 - val_balanced_accuracy: 0.7188\n",
      "Epoch 22/30\n",
      "39/39 [==============================] - 137s 4s/step - loss: 0.0076 - balanced_accuracy: 0.9978 - val_loss: 1.5347 - val_balanced_accuracy: 0.7273\n",
      "Epoch 23/30\n",
      "39/39 [==============================] - 137s 4s/step - loss: 0.0101 - balanced_accuracy: 0.9964 - val_loss: 1.4637 - val_balanced_accuracy: 0.7437\n",
      "Epoch 24/30\n",
      "39/39 [==============================] - 137s 4s/step - loss: 0.0067 - balanced_accuracy: 0.9978 - val_loss: 1.5121 - val_balanced_accuracy: 0.7266\n",
      "Epoch 25/30\n",
      "39/39 [==============================] - 135s 3s/step - loss: 0.0049 - balanced_accuracy: 0.9985 - val_loss: 1.5199 - val_balanced_accuracy: 0.7289\n",
      "Epoch 26/30\n",
      "39/39 [==============================] - 136s 4s/step - loss: 0.0057 - balanced_accuracy: 0.9978 - val_loss: 1.5214 - val_balanced_accuracy: 0.7289\n",
      "Epoch 27/30\n",
      "39/39 [==============================] - 136s 4s/step - loss: 0.0033 - balanced_accuracy: 0.9993 - val_loss: 1.5689 - val_balanced_accuracy: 0.7227\n",
      "Epoch 28/30\n",
      "39/39 [==============================] - 136s 4s/step - loss: 0.0017 - balanced_accuracy: 1.0000 - val_loss: 1.5441 - val_balanced_accuracy: 0.7289\n",
      "Epoch 29/30\n",
      "39/39 [==============================] - 136s 4s/step - loss: 0.0035 - balanced_accuracy: 0.9985 - val_loss: 1.5739 - val_balanced_accuracy: 0.7289\n",
      "Epoch 30/30\n",
      "39/39 [==============================] - 137s 4s/step - loss: 0.0011 - balanced_accuracy: 1.0000 - val_loss: 1.5746 - val_balanced_accuracy: 0.7305\n"
     ]
    }
   ],
   "source": [
    "train_history = model.fit(x ={'input_ids':x_train['input_ids'],'attention_mask':x_train['attention_mask']} ,\n",
    "  y = y_train,\n",
    "  validation_data = ({'input_ids':x_test['input_ids'],'attention_mask':x_test['attention_mask']}, y_test),\n",
    "  epochs=30,\n",
    "  batch_size=36\n",
    ")"
   ]
  },
  {
   "cell_type": "code",
   "execution_count": 243,
   "metadata": {},
   "outputs": [
    {
     "name": "stdout",
     "output_type": "stream",
     "text": [
      "40/40 [==============================] - 28s 675ms/step\n"
     ]
    },
    {
     "data": {
      "text/plain": [
       "array([0.05940568, 0.08012749, 0.9989439 ], dtype=float32)"
      ]
     },
     "execution_count": 243,
     "metadata": {},
     "output_type": "execute_result"
    }
   ],
   "source": [
    "predicted_raw = model.predict({'input_ids':x_test['input_ids'],'attention_mask':x_test['attention_mask']})\n",
    "predicted_raw[0]"
   ]
  },
  {
   "cell_type": "code",
   "execution_count": 244,
   "metadata": {},
   "outputs": [],
   "source": [
    "y_predicted = np.argmax(predicted_raw, axis = 1)\n",
    "y_true = df_test.Trend"
   ]
  },
  {
   "cell_type": "code",
   "execution_count": 171,
   "metadata": {},
   "outputs": [
    {
     "name": "stdout",
     "output_type": "stream",
     "text": [
      "              precision    recall  f1-score   support\n",
      "\n",
      "           0       0.91      0.70      0.79       466\n",
      "           1       0.66      0.80      0.73       422\n",
      "           2       0.80      0.83      0.81       392\n",
      "\n",
      "    accuracy                           0.77      1280\n",
      "   macro avg       0.79      0.78      0.78      1280\n",
      "weighted avg       0.79      0.77      0.78      1280\n",
      "\n"
     ]
    }
   ],
   "source": [
    "from sklearn.metrics import classification_report\n",
    "print(classification_report(y_true, y_predicted)) "
   ]
  }
 ],
 "metadata": {
  "kernelspec": {
   "display_name": "Python 3.8.3 ('base')",
   "language": "python",
   "name": "python3"
  },
  "language_info": {
   "codemirror_mode": {
    "name": "ipython",
    "version": 3
   },
   "file_extension": ".py",
   "mimetype": "text/x-python",
   "name": "python",
   "nbconvert_exporter": "python",
   "pygments_lexer": "ipython3",
   "version": "3.8.3"
  },
  "orig_nbformat": 4,
  "vscode": {
   "interpreter": {
    "hash": "3b9f4507b348694177e02266719fba0c88281723c12b133ca491bb3015081300"
   }
  }
 },
 "nbformat": 4,
 "nbformat_minor": 2
}
